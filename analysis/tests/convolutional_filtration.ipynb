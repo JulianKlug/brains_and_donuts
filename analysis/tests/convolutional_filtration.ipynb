{
 "cells": [
  {
   "cell_type": "code",
   "execution_count": 16,
   "metadata": {
    "collapsed": true,
    "pycharm": {
     "is_executing": false
    }
   },
   "outputs": [],
   "source": [
    "import sys\n",
    "sys.path.insert(0, '../')\n",
    "import numpy as np\n",
    "import data_loader as dl\n",
    "from utils.rolling_window import rolling_window\n",
    "from visual import display\n",
    "# from giotto.diagrams.features import PersistenceEntropy\n",
    "# from giotto.homology import CubicalPersistence\n",
    "from persistance.filtrations import thickening_3D"
   ]
  },
  {
   "cell_type": "code",
   "execution_count": 17,
   "outputs": [
    {
     "name": "stdout",
     "text": [
      "Loading a total of 113 subjects.\nSequences used: {'ct_sequences': ['wmask_filtered_extracted_betted_Angio'], 'ct_label_sequences': ['wcoreg_VOI'], 'mri_sequences': [], 'mri_label_sequences': []}\n0 subjects had been excluded.\n(79, 95, 79)\n"
     ],
     "output_type": "stream"
    }
   ],
   "source": [
    "dir = '/Users/julian/temp/vessels_tests'\n",
    "clinical_inputs, ct_inputs, ct_lesion_GT, mri_inputs, mri_lesion_GT, brain_masks, ids, params = dl.load_structured_data(dir, 'data_set.npz')\n",
    "test = np.squeeze(ct_inputs[0])\n",
    "test_GT = ct_lesion_GT[0]\n",
    "n_x, n_y, n_z = test.shape\n",
    "print(test.shape)\n"
   ],
   "metadata": {
    "collapsed": false,
    "pycharm": {
     "name": "#%%\n",
     "is_executing": false
    }
   }
  },
  {
   "cell_type": "code",
   "execution_count": 18,
   "outputs": [
    {
     "data": {
      "text/plain": "(592895, 9, 9, 9)"
     },
     "metadata": {},
     "output_type": "execute_result",
     "execution_count": 18
    }
   ],
   "source": [
    "window_d_x = 7\n",
    "window_d_y = 7\n",
    "window_d_z = 7\n",
    "padding = int((max([window_d_x, window_d_y, window_d_z]) - 1) / 2)\n",
    "padded_test = np.pad(test, ((padding, padding), (padding, padding), (padding, padding)),\n",
    "                         mode='constant', constant_values=0)\n",
    "windows = rolling_window(padded_test, (window_d_x, window_d_y, window_d_z))\\\n",
    "                .reshape(n_x * n_y * n_z, window_d_x, window_d_y, window_d_z)\n",
    "windows_with_frames = np.pad(windows, ((0, 0), (1, 1), (1, 1), (1, 1)), mode='constant', constant_values=1)\n",
    "windows_with_frames.shape\n"
   ],
   "metadata": {
    "collapsed": false,
    "pycharm": {
     "name": "#%%\n",
     "is_executing": false
    }
   }
  },
  {
   "cell_type": "code",
   "execution_count": 20,
   "outputs": [],
   "source": [
    "\n",
    "dilation_filtered_images = np.empty(windows_with_frames.shape)\n",
    "\n",
    "for i in range(windows_with_frames.shape[0]):\n",
    "   dilation_filtered_images[i] = thickening_3D(windows_with_frames[i])"
   ],
   "metadata": {
    "collapsed": false,
    "pycharm": {
     "name": "#%%\n",
     "is_executing": false
    }
   }
  },
  {
   "cell_type": "code",
   "execution_count": 25,
   "outputs": [
    {
     "name": "stdout",
     "text": [
      "Image center:  4 4 4\nImage center value:  5.0\n"
     ],
     "output_type": "stream"
    },
    {
     "data": {
      "text/plain": "<Figure size 432x288 with 3 Axes>",
      "image/png": "[encoded data removed]"
     },
     "metadata": {
      "needs_background": "light"
     },
     "output_type": "display_data"
    }
   ],
   "source": [
    "\n",
    "display(dilation_filtered_images[603])\n"
   ],
   "metadata": {
    "collapsed": false,
    "pycharm": {
     "name": "#%%\n",
     "is_executing": false
    }
   }
  },
  {
   "cell_type": "code",
   "execution_count": null,
   "outputs": [],
   "source": [
    "\n"
   ],
   "metadata": {
    "collapsed": false,
    "pycharm": {
     "name": "#%%\n"
    }
   }
  }
 ],
 "metadata": {
  "language_info": {
   "codemirror_mode": {
    "name": "ipython",
    "version": 2
   },
   "file_extension": ".py",
   "mimetype": "text/x-python",
   "name": "python",
   "nbconvert_exporter": "python",
   "pygments_lexer": "ipython2",
   "version": "2.7.6"
  },
  "kernelspec": {
   "name": "pycharm-f52dae77",
   "language": "python",
   "display_name": "PyCharm (BnDs)"
  },
  "pycharm": {
   "stem_cell": {
    "cell_type": "raw",
    "source": [],
    "metadata": {
     "collapsed": false
    }
   }
  }
 },
 "nbformat": 4,
 "nbformat_minor": 0
}