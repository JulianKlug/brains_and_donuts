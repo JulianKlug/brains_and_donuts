{
 "cells": [
  {
   "cell_type": "code",
   "execution_count": 9,
   "metadata": {
    "collapsed": true,
    "pycharm": {
     "is_executing": false
    }
   },
   "outputs": [
    {
     "name": "stdout",
     "text": [
      "Loading a total of 113 subjects.\nSequences used: {'ct_sequences': ['wmask_filtered_extracted_betted_Angio'], 'ct_label_sequences': ['wcoreg_VOI'], 'mri_sequences': [], 'mri_label_sequences': []}\n0 subjects had been excluded.\n"
     ],
     "output_type": "stream"
    }
   ],
   "source": [
    "import sys\n",
    "sys.path.insert(0, '../')\n",
    "import data_loader as dl\n",
    "dir = '/Users/julian/temp/vessels_tests'\n",
    "clinical_inputs, ct_inputs, ct_lesion_GT, mri_inputs, mri_lesion_GT, brain_masks, ids, params = dl.load_structured_data(dir, 'data_set.npz')\n"
   ]
  },
  {
   "cell_type": "code",
   "execution_count": 14,
   "metadata": {
    "pycharm": {
     "is_executing": false,
     "name": "#%%\n"
    }
   },
   "outputs": [],
   "source": [
    "import numpy as np\n",
    "import giotto.homology as hl\n",
    "from plotting import plot_diagram, plt_diagram\n"
   ]
  },
  {
   "cell_type": "code",
   "execution_count": 15,
   "metadata": {
    "pycharm": {
     "is_executing": false,
     "name": "#%%\n"
    }
   },
   "outputs": [],
   "source": [
    "test = np.squeeze(ct_inputs[0])\n",
    "inp = np.asarray([np.asarray(np.where(test == 1)).T])\n"
   ]
  },
  {
   "cell_type": "code",
   "execution_count": null,
   "metadata": {
    "pycharm": {
     "is_executing": true,
     "name": "#%%\n"
    }
   },
   "outputs": [],
   "source": [
    "homologyDimensions = (0, 1 ,2)\n",
    "persistenceDiagram = hl.VietorisRipsPersistence(metric='euclidean', max_edge_length=10, \n",
    "                                                homology_dimensions=homologyDimensions, \n",
    "                                                n_jobs=-1)\n",
    "persistenceDiagram.fit(inp)\n",
    "\n",
    "# List of all the time-pordered persistent diagrams obtained from the list of correlation matrices\n",
    "Diagrams = persistenceDiagram.transform(inp)\n",
    "Diagrams.shape\n"
   ]
  },
  {
   "cell_type": "code",
   "execution_count": 34,
   "metadata": {
    "pycharm": {
     "is_executing": false,
     "name": "#%%\n"
    }
   },
   "outputs": [
    {
     "data": {
      "image/png": "[encoded data removed]",
      "text/plain": [
       "<Figure size 432x288 with 1 Axes>"
      ]
     },
     "metadata": {
      "needs_background": "light"
     },
     "output_type": "display_data"
    }
   ],
   "source": [
    "plt_diagram(Diagrams[0])\n",
    "\n"
   ]
  },
  {
   "cell_type": "code",
   "execution_count": 16,
   "metadata": {
    "pycharm": {
     "is_executing": false
    }
   },
   "outputs": [
    {
     "data": {
      "text/plain": "EntropyGenerator(filter_epsilon=0.0, homology_dimensions=(0, 1, 2),\n                 max_edge_length=10, metric='euclidean', n_jobs=-1,\n                 scaler_function=<function amax at 0x10c3e17b8>,\n                 scaler_metric='bottleneck', scaler_metric_params=None)"
     },
     "metadata": {},
     "output_type": "execute_result",
     "execution_count": 16
    }
   ],
   "source": [
    "from giotto.meta_transformers import EntropyGenerator as eg\n",
    "homologyDimensions = (0, 1 ,2)\n",
    "ent = eg(metric='euclidean', max_edge_length=10, \n",
    "            homology_dimensions=homologyDimensions, \n",
    "            n_jobs=-1)\n",
    "ent\n"
   ]
  },
  {
   "cell_type": "code",
   "execution_count": 8,
   "outputs": [
    {
     "name": "stdout",
     "text": [
      "[[9.09230131 7.79440413 5.09142905]]\n213.73709416389465\n"
     ],
     "output_type": "stream"
    }
   ],
   "source": [
    "import time\n",
    "t0 = time.time()\n",
    "inp_entropy = ent.fit_transform(inp)\n",
    "t1 = time.time()\n",
    "print(inp_entropy)\n",
    "print(t1-t0)"
   ],
   "metadata": {
    "collapsed": false,
    "pycharm": {
     "name": "#%%\n",
     "is_executing": false
    }
   }
  },
  {
   "cell_type": "code",
   "execution_count": 22,
   "outputs": [
    {
     "data": {
      "text/plain": "7.794404131281391"
     },
     "metadata": {},
     "output_type": "execute_result",
     "execution_count": 22
    }
   ],
   "source": [
    "inp_entropy[0][1]\n"
   ],
   "metadata": {
    "collapsed": false,
    "pycharm": {
     "name": "#%%\n",
     "is_executing": false
    }
   }
  }
 ],
 "metadata": {
  "kernelspec": {
   "display_name": "Python 3",
   "language": "python",
   "name": "python3"
  },
  "language_info": {
   "codemirror_mode": {
    "name": "ipython",
    "version": 3
   },
   "file_extension": ".py",
   "mimetype": "text/x-python",
   "name": "python",
   "nbconvert_exporter": "python",
   "pygments_lexer": "ipython3",
   "version": "3.6.4"
  },
  "pycharm": {
   "stem_cell": {
    "cell_type": "raw",
    "source": [],
    "metadata": {
     "collapsed": false
    }
   }
  }
 },
 "nbformat": 4,
 "nbformat_minor": 1
}