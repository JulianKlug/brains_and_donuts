{
 "cells": [
  {
   "cell_type": "markdown",
   "source": [
    "# Demonstration of mask restriction in feature creation\n",
    "Features are only created in the regions defined by the mask, saving on RAM, computation time and possibly accuracy\n",
    "\n",
    "Encountered issues: \n",
    "- for multi-subject subimage creation `RollingSubImageTransformer` has to be called subject-wise."
   ],
   "metadata": {
    "collapsed": false
   }
  },
  {
   "cell_type": "code",
   "execution_count": 1,
   "outputs": [],
   "source": [
    "import sys\n",
    "\n",
    "path_bnd = '../'\n",
    "sys.path.insert(1, path_bnd)\n",
    "import analysis_tools.data_loader as dl\n",
    "from visual_tools.visual import display\n",
    "import numpy as np"
   ],
   "metadata": {
    "collapsed": false,
    "pycharm": {
     "name": "#%%\n",
     "is_executing": false
    }
   }
  },
  {
   "cell_type": "code",
   "execution_count": 3,
   "outputs": [],
   "source": [
    "from gtda.homology import CubicalPersistence\n",
    "from pgtda.diagrams import PersistenceEntropy, Amplitude, Filtering, Scaler\n",
    "from sklearn.pipeline import Pipeline, make_pipeline, FeatureUnion, make_union\n",
    "from pgtda.images import RollingSubImageTransformer, make_image_union\n"
   ],
   "metadata": {
    "collapsed": false,
    "pycharm": {
     "name": "#%%\n",
     "is_executing": false
    }
   }
  },
  {
   "cell_type": "markdown",
   "source": [
    "## Import data"
   ],
   "metadata": {
    "collapsed": false
   }
  },
  {
   "cell_type": "code",
   "execution_count": 2,
   "outputs": [
    {
     "name": "stdout",
     "text": [
      "Loading a total of 113 subjects.\nSequences used: {'ct_sequences': ['wbetted_Angio'], 'ct_label_sequences': ['wcoreg_VOI'], 'mri_sequences': [], 'mri_label_sequences': []}\n0 subjects had been excluded.\n"
     ],
     "output_type": "stream"
    }
   ],
   "source": [
    "data_dir = '/Users/julian/stroke_research/brain_and_donuts/full_datasets'\n",
    "clinical_inputs, ct_inputs, ct_lesion_GT, mri_inputs, mri_lesion_GT, brain_masks, ids, params = \\\n",
    "    dl.load_structured_data(data_dir, 'withAngio_all_2016_2017.npz')\n",
    "\n",
    "# Reshape ct_inputs as it has 1 channel\n",
    "ct_inputs = ct_inputs.reshape((*ct_inputs.shape[:-1]))"
   ],
   "metadata": {
    "collapsed": false,
    "pycharm": {
     "name": "#%%\n",
     "is_executing": false
    }
   }
  },
  {
   "cell_type": "markdown",
   "source": [
    "## Setting up data exploration set"
   ],
   "metadata": {
    "collapsed": false
   }
  },
  {
   "cell_type": "code",
   "execution_count": 4,
   "outputs": [
    {
     "name": "stdout",
     "text": [
      "(2, 40, 48, 40)\n(2, 40, 48, 40)\n(2, 40, 48, 40)\n"
     ],
     "output_type": "stream"
    }
   ],
   "source": [
    "# Data subset\n",
    "n_subjects = 2\n",
    "X = (ct_inputs[:n_subjects] * brain_masks[:n_subjects])[range(n_subjects), ::2, ::2, ::2]\n",
    "y = (ct_lesion_GT[:n_subjects] * brain_masks[:n_subjects])[range(n_subjects), ::2, ::2, ::2]\n",
    "mask = brain_masks[:n_subjects][range(n_subjects), ::2, ::2, ::2]\n",
    "\n",
    "print(X.shape)\n",
    "print(y.shape)\n",
    "print(mask.shape)"
   ],
   "metadata": {
    "collapsed": false,
    "pycharm": {
     "name": "#%%\n",
     "is_executing": false
    }
   }
  },
  {
   "cell_type": "code",
   "execution_count": 5,
   "outputs": [
    {
     "name": "stdout",
     "text": [
      "Image center:  19 23 19\nImage center value:  -0.0\n",
      "Image center:  19 23 19\nImage center value:  False\n"
     ],
     "output_type": "stream"
    },
    {
     "data": {
      "text/plain": "<Figure size 432x288 with 3 Axes>",
      "image/png": "[encoded data removed]"
     },
     "metadata": {
      "needs_background": "light"
     },
     "output_type": "display_data"
    },
    {
     "data": {
      "text/plain": "<Figure size 432x288 with 3 Axes>",
      "image/png": "[encoded data removed]"
     },
     "metadata": {
      "needs_background": "light"
     },
     "output_type": "display_data"
    },
    {
     "data": {
      "text/plain": "<module 'matplotlib.pyplot' from '/Users/julian/.conda/envs/BnDs/lib/python3.7/site-packages/matplotlib/pyplot.py'>"
     },
     "metadata": {},
     "output_type": "execute_result",
     "execution_count": 5
    }
   ],
   "source": [
    "display(X[0])\n",
    "display(mask[0])\n"
   ],
   "metadata": {
    "collapsed": false,
    "pycharm": {
     "name": "#%%\n",
     "is_executing": false
    }
   }
  },
  {
   "cell_type": "markdown",
   "source": [
    "## Subimage Creation\n",
    "Subimages are created for every subject for every width setting in width list\n",
    "Result: subject list of width list of voxel array: n_subj, n_widths, n_x, n_y, n_z, w_x, w_y, w_z\n",
    "\n",
    "Bug (/Feature?): for multi-subject subimage creation `RollingSubImageTransformer` has to be called subject-wise, otherwise it will result in what appears to be a slicing error (cf version with bug in commit [c456f7a595bdfab1ec4d34e6843033bedee56e4f](https://github.com/MonsieurWave/brains_and_donuts/tree/c456f7a595bdfab1ec4d34e6843033bedee56e4f))."
   ],
   "metadata": {
    "collapsed": false
   }
  },
  {
   "cell_type": "code",
   "execution_count": 6,
   "outputs": [
    {
     "name": "stderr",
     "text": [
      "/Users/julian/.conda/envs/BnDs/lib/python3.7/site-packages/pgtda/images/pipeline.py:495: FutureWarning:\n\nUsing a non-tuple sequence for multidimensional indexing is deprecated; use `arr[tuple(seq)]` instead of `arr[seq]`. In the future this will be interpreted as an array index, `arr[np.array(seq)]`, which will result either in an error or a different result.\n\n",
      "/Users/julian/.conda/envs/BnDs/lib/python3.7/site-packages/pgtda/images/pipeline.py:495: FutureWarning:\n\nUsing a non-tuple sequence for multidimensional indexing is deprecated; use `arr[tuple(seq)]` instead of `arr[seq]`. In the future this will be interpreted as an array index, `arr[np.array(seq)]`, which will result either in an error or a different result.\n\n",
      "/Users/julian/.conda/envs/BnDs/lib/python3.7/site-packages/pgtda/images/pipeline.py:495: FutureWarning:\n\nUsing a non-tuple sequence for multidimensional indexing is deprecated; use `arr[tuple(seq)]` instead of `arr[seq]`. In the future this will be interpreted as an array index, `arr[np.array(seq)]`, which will result either in an error or a different result.\n\n",
      "/Users/julian/.conda/envs/BnDs/lib/python3.7/site-packages/pgtda/images/pipeline.py:495: FutureWarning:\n\nUsing a non-tuple sequence for multidimensional indexing is deprecated; use `arr[tuple(seq)]` instead of `arr[seq]`. In the future this will be interpreted as an array index, `arr[np.array(seq)]`, which will result either in an error or a different result.\n\n"
     ],
     "output_type": "stream"
    },
    {
     "name": "stdout",
     "text": [
      "(1, 40, 48, 40, 5, 5, 5)\n(1, 40, 48, 40, 7, 7, 7)\n"
     ],
     "output_type": "stream"
    }
   ],
   "source": [
    "width_list = [[5, 5, 5], [7, 7, 7]]\n",
    "n_widths = len(width_list)\n",
    "X_subimages_width_list = [[RollingSubImageTransformer(width=width, padding='same').fit_transform(X[np.newaxis, subj_index,])\n",
    "                          for width in width_list] for subj_index in range(n_subjects)]\n",
    "print(X_subimages_width_list[0][0].shape)\n",
    "print(X_subimages_width_list[1][1].shape)"
   ],
   "metadata": {
    "collapsed": false,
    "pycharm": {
     "name": "#%%\n",
     "is_executing": false
    }
   }
  },
  {
   "cell_type": "markdown",
   "source": [
    "## Masking\n",
    "Subimages are flattened to create a common voxel-level dimension and the subset defined by their mask is extracted\n",
    "Result: subject list of width list of arrays : n_subjects, n_widths, n_voxels (differs for every subject), w_x, w_y, w_z"
   ],
   "metadata": {
    "collapsed": false
   }
  },
  {
   "cell_type": "code",
   "execution_count": 7,
   "outputs": [
    {
     "data": {
      "text/plain": "2"
     },
     "metadata": {},
     "output_type": "execute_result",
     "execution_count": 7
    }
   ],
   "source": [
    "X_masked_subimages = []\n",
    "for subj_index in range(n_subjects):\n",
    "    subimages_per_width = []\n",
    "    for width_index, width in enumerate(width_list):\n",
    "        flat_subj_subimages = X_subimages_width_list[subj_index][width_index].reshape(-1, width[0], width[1], width[2])\n",
    "        flat_subj_mask = mask[subj_index].reshape(-1)\n",
    "        subimages_per_width.append(flat_subj_subimages[flat_subj_mask])\n",
    "    X_masked_subimages.append(subimages_per_width)\n",
    "len(X_masked_subimages)"
   ],
   "metadata": {
    "collapsed": false,
    "pycharm": {
     "name": "#%%\n",
     "is_executing": false
    }
   }
  },
  {
   "cell_type": "code",
   "execution_count": 8,
   "outputs": [
    {
     "name": "stdout",
     "text": [
      "(26425, 5, 5, 5)\n(26425, 7, 7, 7)\n"
     ],
     "output_type": "stream"
    }
   ],
   "source": [
    "print(X_masked_subimages[0][0].shape)\n",
    "print(X_masked_subimages[0][1].shape)"
   ],
   "metadata": {
    "collapsed": false,
    "pycharm": {
     "name": "#%%\n",
     "is_executing": false
    }
   }
  },
  {
   "cell_type": "markdown",
   "source": [
    "## Feature creation\n",
    "For each subimage for each subimage width, the features of interest are extracted.\n",
    "Features are then concatenated along a subimage-width agnostic feature dimension\n",
    "Result: subject list of arrays : n_subject, n_voxels (differs for every subject), n_features "
   ],
   "metadata": {
    "collapsed": false
   }
  },
  {
   "cell_type": "code",
   "execution_count": 9,
   "outputs": [
    {
     "name": "stdout",
     "text": [
      "2\n"
     ],
     "output_type": "stream"
    }
   ],
   "source": [
    "transformer = make_pipeline(CubicalPersistence(homology_dimensions=(0, 1, 2), n_jobs=-1),\n",
    "                            make_union(PersistenceEntropy(n_jobs=-1),\n",
    "                                       Amplitude(metric='wasserstein', metric_params={'p': 2}, order=None, n_jobs=-1)))\n",
    "X_masked_subfeatures = []\n",
    "for subj_index in range(n_subjects):\n",
    "    subj_masked_subimages = X_masked_subimages[subj_index]\n",
    "    subj_masked_subfeatures_per_width = [transformer.fit_transform(subj_masked_subimages[width_index]) for width_index in range(n_widths)]\n",
    "    X_masked_subfeatures.append(subj_masked_subfeatures_per_width)\n",
    "print(len(X_masked_subfeatures))"
   ],
   "metadata": {
    "collapsed": false,
    "pycharm": {
     "name": "#%%\n",
     "is_executing": false
    }
   }
  },
  {
   "cell_type": "code",
   "execution_count": 10,
   "outputs": [
    {
     "data": {
      "text/plain": "(26425, 12)"
     },
     "metadata": {},
     "output_type": "execute_result",
     "execution_count": 10
    }
   ],
   "source": [
    "X_masked_joined_subfeatures = [np.concatenate(X_masked_subfeatures[subj_index], axis=-1) for subj_index in range(n_subjects)]\n",
    "X_masked_joined_subfeatures[0].shape"
   ],
   "metadata": {
    "collapsed": false,
    "pycharm": {
     "name": "#%%\n",
     "is_executing": false
    }
   }
  },
  {
   "cell_type": "markdown",
   "source": [
    "## Rebuilding 3D feature image\n",
    "The 3D feature image is rebuild by filling the area defined by the mask with the selected feature obtained before. The background can be filled with a given value."
   ],
   "metadata": {
    "collapsed": false
   }
  },
  {
   "cell_type": "code",
   "execution_count": 11,
   "outputs": [
    {
     "data": {
      "text/plain": "(2, 40, 48, 40)"
     },
     "metadata": {},
     "output_type": "execute_result",
     "execution_count": 11
    }
   ],
   "source": [
    "feature_index = 0\n",
    "background_value = 0\n",
    "X_3D_feature = np.full(mask.shape, background_value, dtype = np.float64) # fill shape with background\n",
    "for subj_index in range(n_subjects):\n",
    "    subj_features = X_masked_joined_subfeatures[subj_index]\n",
    "    X_3D_feature[subj_index][mask[subj_index]] = subj_features[:, feature_index]\n",
    "X_3D_feature.shape"
   ],
   "metadata": {
    "collapsed": false,
    "pycharm": {
     "name": "#%%\n",
     "is_executing": false
    }
   }
  },
  {
   "cell_type": "code",
   "execution_count": 12,
   "outputs": [
    {
     "name": "stdout",
     "text": [
      "Image center:  19 23 19\nImage center value:  0.0\n"
     ],
     "output_type": "stream"
    },
    {
     "data": {
      "text/plain": "<Figure size 432x288 with 3 Axes>",
      "image/png": "[encoded data removed]"
     },
     "metadata": {
      "needs_background": "light"
     },
     "output_type": "display_data"
    },
    {
     "data": {
      "text/plain": "<module 'matplotlib.pyplot' from '/Users/julian/.conda/envs/BnDs/lib/python3.7/site-packages/matplotlib/pyplot.py'>"
     },
     "metadata": {},
     "output_type": "execute_result",
     "execution_count": 12
    }
   ],
   "source": [
    "display(X_3D_feature[0])\n"
   ],
   "metadata": {
    "collapsed": false,
    "pycharm": {
     "name": "#%%\n",
     "is_executing": false
    }
   }
  }
 ],
 "metadata": {
  "language_info": {
   "codemirror_mode": {
    "name": "ipython",
    "version": 2
   },
   "file_extension": ".py",
   "mimetype": "text/x-python",
   "name": "python",
   "nbconvert_exporter": "python",
   "pygments_lexer": "ipython2",
   "version": "2.7.6"
  },
  "kernelspec": {
   "name": "python3",
   "language": "python",
   "display_name": "Python 3"
  },
  "pycharm": {
   "stem_cell": {
    "cell_type": "raw",
    "source": [],
    "metadata": {
     "collapsed": false
    }
   }
  }
 },
 "nbformat": 4,
 "nbformat_minor": 0
}