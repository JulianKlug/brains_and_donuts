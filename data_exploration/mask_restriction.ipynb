{
 "cells": [
  {
   "cell_type": "markdown",
   "source": [
    "# Demonstration of mask restriction in feature creation\n",
    "Features are only created in the regions defined by the mask, saving on RAM, computation time and possibly accuracy\n",
    "\n",
    "Practical implications: train/test split has to be made before masking (as splitting along subject dimension is not easily achievable anymore)\n"
   ],
   "metadata": {
    "collapsed": false
   }
  },
  {
   "cell_type": "code",
   "execution_count": 66,
   "outputs": [],
   "source": [
    "import sys\n",
    "\n",
    "path_bnd = '../'\n",
    "sys.path.insert(1, path_bnd)\n",
    "import analysis_tools.data_loader as dl\n",
    "from visual_tools.visual import display\n",
    "import numpy as np"
   ],
   "metadata": {
    "collapsed": false,
    "pycharm": {
     "name": "#%%\n",
     "is_executing": false
    }
   }
  },
  {
   "cell_type": "code",
   "execution_count": 67,
   "outputs": [],
   "source": [
    "from gtda.homology import CubicalPersistence\n",
    "from pgtda.diagrams import PersistenceEntropy, Amplitude, Filtering, Scaler\n",
    "from sklearn.pipeline import Pipeline, make_pipeline, FeatureUnion, make_union\n",
    "from pgtda.images import RollingSubImageTransformer, make_image_union\n"
   ],
   "metadata": {
    "collapsed": false,
    "pycharm": {
     "name": "#%%\n",
     "is_executing": false
    }
   }
  },
  {
   "cell_type": "markdown",
   "source": [
    "## Import data"
   ],
   "metadata": {
    "collapsed": false
   }
  },
  {
   "cell_type": "code",
   "execution_count": 68,
   "outputs": [
    {
     "name": "stdout",
     "text": [
      "Loading a total of 113 subjects.\nSequences used: {'ct_sequences': ['wbetted_Angio'], 'ct_label_sequences': ['wcoreg_VOI'], 'mri_sequences': [], 'mri_label_sequences': []}\n0 subjects had been excluded.\n"
     ],
     "output_type": "stream"
    }
   ],
   "source": [
    "data_dir = '/Users/julian/stroke_research/brain_and_donuts/full_datasets'\n",
    "clinical_inputs, ct_inputs, ct_lesion_GT, mri_inputs, mri_lesion_GT, brain_masks, ids, params = \\\n",
    "    dl.load_structured_data(data_dir, 'withAngio_all_2016_2017.npz')\n",
    "\n",
    "# Reshape ct_inputs as it has 1 channel\n",
    "ct_inputs = ct_inputs.reshape((*ct_inputs.shape[:-1]))"
   ],
   "metadata": {
    "collapsed": false,
    "pycharm": {
     "name": "#%%\n",
     "is_executing": false
    }
   }
  },
  {
   "cell_type": "markdown",
   "source": [
    "## Setting up data exploration set"
   ],
   "metadata": {
    "collapsed": false
   }
  },
  {
   "cell_type": "code",
   "execution_count": 69,
   "outputs": [
    {
     "name": "stdout",
     "text": [
      "(2, 40, 48, 40)\n(2, 40, 48, 40)\n(2, 40, 48, 40)\n"
     ],
     "output_type": "stream"
    }
   ],
   "source": [
    "# Data subset\n",
    "n_images = 2\n",
    "X = (ct_inputs[:n_images] * brain_masks[:n_images])[range(n_images), ::2, ::2, ::2]\n",
    "y = (ct_lesion_GT[:n_images] * brain_masks[:n_images])[range(n_images), ::2, ::2, ::2]\n",
    "mask = brain_masks[:n_images][range(n_images), ::2, ::2, ::2]\n",
    "\n",
    "print(X.shape)\n",
    "print(y.shape)\n",
    "print(mask.shape)"
   ],
   "metadata": {
    "collapsed": false,
    "pycharm": {
     "name": "#%%\n",
     "is_executing": false
    }
   }
  },
  {
   "cell_type": "code",
   "execution_count": 70,
   "outputs": [
    {
     "name": "stdout",
     "text": [
      "Image center:  19 23 19\nImage center value:  -0.0\n",
      "Image center:  19 23 19\nImage center value:  False\n"
     ],
     "output_type": "stream"
    },
    {
     "data": {
      "text/plain": "<Figure size 432x288 with 3 Axes>",
      "image/png": "[encoded data removed]"
     },
     "metadata": {
      "needs_background": "light"
     },
     "output_type": "display_data"
    },
    {
     "data": {
      "text/plain": "<Figure size 432x288 with 3 Axes>",
      "image/png": "[encoded data removed]"
     },
     "metadata": {
      "needs_background": "light"
     },
     "output_type": "display_data"
    },
    {
     "data": {
      "text/plain": "<module 'matplotlib.pyplot' from '/Users/julian/.conda/envs/BnDs/lib/python3.7/site-packages/matplotlib/pyplot.py'>"
     },
     "metadata": {},
     "output_type": "execute_result",
     "execution_count": 70
    }
   ],
   "source": [
    "display(X[0])\n",
    "display(mask[0])\n"
   ],
   "metadata": {
    "collapsed": false,
    "pycharm": {
     "name": "#%%\n",
     "is_executing": false
    }
   }
  },
  {
   "cell_type": "markdown",
   "source": [
    "## Subimage Creation"
   ],
   "metadata": {
    "collapsed": false
   }
  },
  {
   "cell_type": "code",
   "execution_count": 71,
   "outputs": [
    {
     "name": "stderr",
     "text": [
      "/Users/julian/.conda/envs/BnDs/lib/python3.7/site-packages/pgtda/images/pipeline.py:495: FutureWarning:\n\nUsing a non-tuple sequence for multidimensional indexing is deprecated; use `arr[tuple(seq)]` instead of `arr[seq]`. In the future this will be interpreted as an array index, `arr[np.array(seq)]`, which will result either in an error or a different result.\n\n",
      "/Users/julian/.conda/envs/BnDs/lib/python3.7/site-packages/pgtda/images/pipeline.py:495: FutureWarning:\n\nUsing a non-tuple sequence for multidimensional indexing is deprecated; use `arr[tuple(seq)]` instead of `arr[seq]`. In the future this will be interpreted as an array index, `arr[np.array(seq)]`, which will result either in an error or a different result.\n\n"
     ],
     "output_type": "stream"
    },
    {
     "name": "stdout",
     "text": [
      "(2, 40, 48, 40, 5, 5, 5)\n(2, 40, 48, 40, 7, 7, 7)\n"
     ],
     "output_type": "stream"
    }
   ],
   "source": [
    "width_list = [[5, 5, 5], [7, 7, 7]]\n",
    "n_widths = len(width_list)\n",
    "X_subimages_width_list = [RollingSubImageTransformer(width=width, padding='same').fit_transform(X)\n",
    "                          for width in width_list]\n",
    "print(X_subimages_width_list[0].shape)\n",
    "print(X_subimages_width_list[1].shape)"
   ],
   "metadata": {
    "collapsed": false,
    "pycharm": {
     "name": "#%%\n",
     "is_executing": false
    }
   }
  },
  {
   "cell_type": "markdown",
   "source": [
    "## Masking\n",
    "Subimages are flattened to create a common voxel-level dimension and the subset defined by their mask is extracted"
   ],
   "metadata": {
    "collapsed": false
   }
  },
  {
   "cell_type": "code",
   "execution_count": 72,
   "outputs": [
    {
     "name": "stdout",
     "text": [
      "(55969, 5, 5, 5)\n(55969, 7, 7, 7)\n"
     ],
     "output_type": "stream"
    }
   ],
   "source": [
    "X_masked_subimages = []\n",
    "for width_index, width in enumerate(width_list):\n",
    "    # flatten along sample and spatial dimension to allow for masking \n",
    "    # (as the number of spatial samples in mask is not the same for every subject)\n",
    "    flat_X_subimages = X_subimages_width_list[width_index].reshape(-1, width[0], width[1], width[2])\n",
    "    X_masked_subimages.append(flat_X_subimages[mask.reshape(-1)])\n",
    "print(X_masked_subimages[0].shape)\n",
    "print(X_masked_subimages[1].shape)"
   ],
   "metadata": {
    "collapsed": false,
    "pycharm": {
     "name": "#%%\n",
     "is_executing": false
    }
   }
  },
  {
   "cell_type": "code",
   "execution_count": 73,
   "outputs": [
    {
     "data": {
      "text/plain": "(55969,)"
     },
     "metadata": {},
     "output_type": "execute_result",
     "execution_count": 73
    }
   ],
   "source": [
    "y_masked = y.reshape(-1)[mask.reshape(-1)]\n",
    "y_masked.shape"
   ],
   "metadata": {
    "collapsed": false,
    "pycharm": {
     "name": "#%%\n",
     "is_executing": false
    }
   }
  },
  {
   "cell_type": "markdown",
   "source": [
    "## Feature creation"
   ],
   "metadata": {
    "collapsed": false
   }
  },
  {
   "cell_type": "code",
   "execution_count": 74,
   "outputs": [
    {
     "name": "stdout",
     "text": [
      "(55969, 6)\n(55969, 6)\n"
     ],
     "output_type": "stream"
    }
   ],
   "source": [
    "transformer = make_pipeline(CubicalPersistence(homology_dimensions=(0, 1, 2), n_jobs=-1),\n",
    "                            make_union(PersistenceEntropy(n_jobs=-1),\n",
    "                                       Amplitude(metric='wasserstein', metric_params={'p': 2}, order=None, n_jobs=-1)))\n",
    "X_masked_subfeatures_per_width = [transformer.fit_transform(X_masked_subimages[width_index]) for width_index in range(n_widths)]\n",
    "print(X_masked_subfeatures_per_width[0].shape)\n",
    "print(X_masked_subfeatures_per_width[1].shape)"
   ],
   "metadata": {
    "collapsed": false,
    "pycharm": {
     "name": "#%%\n",
     "is_executing": false
    }
   }
  },
  {
   "cell_type": "code",
   "execution_count": 75,
   "outputs": [
    {
     "data": {
      "text/plain": "(55969, 12)"
     },
     "metadata": {},
     "output_type": "execute_result",
     "execution_count": 75
    }
   ],
   "source": [
    "X_masked_subfeatures = np.concatenate(X_masked_subfeatures_per_width, axis=-1)\n",
    "X_masked_subfeatures.shape"
   ],
   "metadata": {
    "collapsed": false,
    "pycharm": {
     "name": "#%%\n",
     "is_executing": false
    }
   }
  },
  {
   "cell_type": "markdown",
   "source": [
    "## Rebuilding 3D feature image\n",
    "The 3D feature image is rebuild by filling the area defined by the mask with the selected feature obtained before. The background can be filled with a given value."
   ],
   "metadata": {
    "collapsed": false
   }
  },
  {
   "cell_type": "code",
   "execution_count": 76,
   "outputs": [
    {
     "data": {
      "text/plain": "(2, 40, 48, 40)"
     },
     "metadata": {},
     "output_type": "execute_result",
     "execution_count": 76
    }
   ],
   "source": [
    "feature_index = 0\n",
    "vxl_index = 0\n",
    "background_value = 0\n",
    "X_3D_feature = np.full(mask.shape, background_value, dtype = np.float64) # fill shape with background\n",
    "for subj in range(n_images):\n",
    "    subj_n_vxl = np.sum(mask[subj])\n",
    "    subj_features = X_masked_subfeatures[vxl_index : vxl_index + subj_n_vxl]\n",
    "    X_3D_feature[subj][mask[subj]] = subj_features[:, feature_index]\n",
    "    vxl_index += subj_n_vxl\n",
    "X_3D_feature.shape"
   ],
   "metadata": {
    "collapsed": false,
    "pycharm": {
     "name": "#%%\n",
     "is_executing": false
    }
   }
  },
  {
   "cell_type": "code",
   "execution_count": 77,
   "outputs": [
    {
     "name": "stdout",
     "text": [
      "Image center:  19 23 19\nImage center value:  0.0\n"
     ],
     "output_type": "stream"
    },
    {
     "data": {
      "text/plain": "<Figure size 432x288 with 3 Axes>",
      "image/png": "[encoded data removed]"
     },
     "metadata": {
      "needs_background": "light"
     },
     "output_type": "display_data"
    },
    {
     "data": {
      "text/plain": "<module 'matplotlib.pyplot' from '/Users/julian/.conda/envs/BnDs/lib/python3.7/site-packages/matplotlib/pyplot.py'>"
     },
     "metadata": {},
     "output_type": "execute_result",
     "execution_count": 77
    }
   ],
   "source": [
    "display(X_3D_feature[0])\n"
   ],
   "metadata": {
    "collapsed": false,
    "pycharm": {
     "name": "#%%\n",
     "is_executing": false
    }
   }
  }
 ],
 "metadata": {
  "language_info": {
   "codemirror_mode": {
    "name": "ipython",
    "version": 2
   },
   "file_extension": ".py",
   "mimetype": "text/x-python",
   "name": "python",
   "nbconvert_exporter": "python",
   "pygments_lexer": "ipython2",
   "version": "2.7.6"
  },
  "kernelspec": {
   "name": "python3",
   "language": "python",
   "display_name": "Python 3"
  },
  "pycharm": {
   "stem_cell": {
    "cell_type": "raw",
    "source": [],
    "metadata": {
     "collapsed": false
    }
   }
  }
 },
 "nbformat": 4,
 "nbformat_minor": 0
}