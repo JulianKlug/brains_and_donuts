{
 "cells": [
  {
   "cell_type": "code",
   "execution_count": 2,
   "metadata": {
    "collapsed": true,
    "pycharm": {
     "is_executing": false
    }
   },
   "outputs": [
    {
     "name": "stdout",
     "text": [
      "Loading a total of 113 subjects.\nSequences used: {'ct_sequences': ['wmask_filtered_extracted_betted_Angio'], 'ct_label_sequences': ['wcoreg_VOI'], 'mri_sequences': [], 'mri_label_sequences': []}\n0 subjects had been excluded.\n"
     ],
     "output_type": "stream"
    }
   ],
   "source": [
    "import sys\n",
    "sys.path.insert(0, '../')\n",
    "import analysis_tools.data_loader as dl\n",
    "dir = '/Users/julian/temp/vessels_tests'\n",
    "clinical_inputs, ct_inputs, ct_lesion_GT, mri_inputs, mri_lesion_GT, brain_masks, ids, params = dl.load_structured_data(dir, 'data_set.npz')\n"
   ]
  },
  {
   "cell_type": "code",
   "execution_count": 11,
   "metadata": {
    "pycharm": {
     "is_executing": false,
     "name": "#%%\n"
    }
   },
   "outputs": [],
   "source": [
    "# sys.path.insert(0, '/Users/julian/stroke_research/brain_and_donuts/giotto-learn')\n",
    "import numpy as np\n",
    "import giotto.homology as hl\n",
    "from plotting import plot_diagram, plot_betti_curves\n"
   ]
  },
  {
   "cell_type": "code",
   "execution_count": 7,
   "metadata": {
    "pycharm": {
     "is_executing": false,
     "name": "#%%\n"
    }
   },
   "outputs": [],
   "source": [
    "test = np.squeeze(ct_inputs[0])\n",
    "inp = np.asarray([np.asarray(np.where(test == 1)).T])\n"
   ]
  },
  {
   "cell_type": "code",
   "execution_count": 8,
   "metadata": {
    "pycharm": {
     "is_executing": false,
     "name": "#%%\n"
    }
   },
   "outputs": [
    {
     "data": {
      "text/plain": "(1, 13318, 3)"
     },
     "metadata": {},
     "output_type": "execute_result",
     "execution_count": 8
    }
   ],
   "source": [
    "homologyDimensions = (0, 1 ,2)\n",
    "persistenceDiagram = hl.VietorisRipsPersistence(metric='euclidean', max_edge_length=10, \n",
    "                                                homology_dimensions=homologyDimensions, \n",
    "                                                n_jobs=-1)\n",
    "persistenceDiagram.fit(inp)\n",
    "\n",
    "# List of all the time-pordered persistent diagrams obtained from the list of correlation matrices\n",
    "Diagrams = persistenceDiagram.transform(inp)\n",
    "Diagrams.shape\n"
   ]
  },
  {
   "cell_type": "code",
   "execution_count": 34,
   "metadata": {
    "pycharm": {
     "is_executing": false,
     "name": "#%%\n"
    }
   },
   "outputs": [
    {
     "data": {
      "image/png": "[encoded data removed]",
      "text/plain": [
       "<Figure size 432x288 with 1 Axes>"
      ]
     },
     "metadata": {
      "needs_background": "light"
     },
     "output_type": "display_data"
    }
   ],
   "source": [
    "plt_diagram(Diagrams[0])\n",
    "\n",
    "\n"
   ]
  },
  {
   "cell_type": "code",
   "execution_count": 28,
   "outputs": [
    {
     "name": "stdout",
     "text": [
      "[2211 2211 2211 2211 2211  240  240  240  240  248  248  276  276  276\n  278  278  207  207  207  207  207  228  239  239  227  227  209  209\n  204  219  219  199  199  195  195  210  204  205  205  214  215  207\n  207  207  210  210  187  181  181  173  172  172  171  174  173  172\n  165  164  164  160  156  146  136  125  122  122  120  119  114  114\n  102  102   94   83   76   74   67   67   65   63   59   56   53   48\n   45   42   42   42   41   39   33   32   27   25   27   27   19   19\n   15    0]\n[0.         0.07758733 0.15517466 0.23276199 0.31034932 0.38793665\n 0.46552398 0.54311131 0.62069864 0.69828597 0.7758733  0.85346063\n 0.93104796 1.00863529 1.08622262 1.16380995 1.24139728 1.31898461\n 1.39657194 1.47415927 1.5517466  1.62933393 1.70692126 1.78450859\n 1.86209592 1.93968325 2.01727058 2.09485791 2.17244524 2.25003257\n 2.3276199  2.40520723 2.48279456 2.56038189 2.63796922 2.71555655\n 2.79314388 2.87073121 2.94831854 3.02590587 3.1034932  3.18108053\n 3.25866786 3.33625519 3.41384252 3.49142985 3.56901718 3.64660451\n 3.72419184 3.80177917 3.8793665  3.95695383 4.03454116 4.11212849\n 4.18971582 4.26730315 4.34489048 4.42247781 4.50006514 4.57765247\n 4.6552398  4.73282713 4.81041446 4.88800179 4.96558912 5.04317645\n 5.12076378 5.19835111 5.27593844 5.35352577 5.4311131  5.50870043\n 5.58628776 5.66387509 5.74146242 5.81904975 5.89663708 5.97422441\n 6.05181174 6.12939907 6.2069864  6.28457373 6.36216106 6.43974839\n 6.51733572 6.59492305 6.67251038 6.75009771 6.82768504 6.90527237\n 6.9828597  7.06044703 7.13803436 7.21562169 7.29320902 7.37079635\n 7.44838368 7.52597101 7.60355834 7.68114567]\n"
     ],
     "output_type": "stream"
    },
    {
     "data": {
      "text/plain": "[<matplotlib.lines.Line2D at 0x1a6ac3f4d0>]"
     },
     "metadata": {},
     "output_type": "execute_result",
     "execution_count": 28
    },
    {
     "data": {
      "text/plain": "<Figure size 432x288 with 1 Axes>",
      "image/png": "[encoded data removed]"
     },
     "metadata": {
      "needs_background": "light"
     },
     "output_type": "display_data"
    }
   ],
   "source": [
    "from giotto.diagrams import BettiCurve\n",
    "betti = BettiCurve(n_values=100)\n",
    "Xbet = betti.fit_transform(Diagrams)\n",
    "print(Xbet[0,1,:])\n",
    "print(betti.samplings_[0])\n",
    "import matplotlib.pyplot as plt\n",
    "# plot_betti_curves(Xbet, homology_dimensions=None, samplings=betti.samplings_)\n",
    "dim = 0\n",
    "plt.plot(betti.samplings_[dim], Xbet[0, dim, :])\n",
    "dim = 1\n",
    "plt.plot(betti.samplings_[dim], Xbet[0, dim, :])\n"
   ],
   "metadata": {
    "collapsed": false,
    "pycharm": {
     "name": "#%%\n",
     "is_executing": false
    }
   }
  },
  {
   "cell_type": "code",
   "execution_count": 16,
   "metadata": {
    "pycharm": {
     "is_executing": false
    }
   },
   "outputs": [
    {
     "data": {
      "text/plain": "EntropyGenerator(filter_epsilon=0.0, homology_dimensions=(0, 1, 2),\n                 max_edge_length=10, metric='euclidean', n_jobs=-1,\n                 scaler_function=<function amax at 0x10c3e17b8>,\n                 scaler_metric='bottleneck', scaler_metric_params=None)"
     },
     "metadata": {},
     "output_type": "execute_result",
     "execution_count": 16
    }
   ],
   "source": [
    "from giotto.meta_transformers import EntropyGenerator as eg\n",
    "homologyDimensions = (0, 1 ,2)\n",
    "ent = eg(metric='euclidean', max_edge_length=10, \n",
    "            homology_dimensions=homologyDimensions, \n",
    "            n_jobs=-1)\n",
    "ent\n"
   ]
  },
  {
   "cell_type": "code",
   "execution_count": 8,
   "outputs": [
    {
     "name": "stdout",
     "text": [
      "[[9.09230131 7.79440413 5.09142905]]\n213.73709416389465\n"
     ],
     "output_type": "stream"
    }
   ],
   "source": [
    "import time\n",
    "t0 = time.time()\n",
    "inp_entropy = ent.fit_transform(inp)\n",
    "t1 = time.time()\n",
    "print(inp_entropy)\n",
    "print(t1-t0)"
   ],
   "metadata": {
    "collapsed": false,
    "pycharm": {
     "name": "#%%\n",
     "is_executing": false
    }
   }
  },
  {
   "cell_type": "code",
   "execution_count": 22,
   "outputs": [
    {
     "data": {
      "text/plain": "7.794404131281391"
     },
     "metadata": {},
     "output_type": "execute_result",
     "execution_count": 22
    }
   ],
   "source": [
    "inp_entropy[0][1]\n"
   ],
   "metadata": {
    "collapsed": false,
    "pycharm": {
     "name": "#%%\n",
     "is_executing": false
    }
   }
  }
 ],
 "metadata": {
  "kernelspec": {
   "display_name": "Python 3",
   "language": "python",
   "name": "python3"
  },
  "language_info": {
   "codemirror_mode": {
    "name": "ipython",
    "version": 3
   },
   "file_extension": ".py",
   "mimetype": "text/x-python",
   "name": "python",
   "nbconvert_exporter": "python",
   "pygments_lexer": "ipython3",
   "version": "3.6.4"
  },
  "pycharm": {
   "stem_cell": {
    "cell_type": "raw",
    "source": [],
    "metadata": {
     "collapsed": false
    }
   }
  }
 },
 "nbformat": 4,
 "nbformat_minor": 1
}