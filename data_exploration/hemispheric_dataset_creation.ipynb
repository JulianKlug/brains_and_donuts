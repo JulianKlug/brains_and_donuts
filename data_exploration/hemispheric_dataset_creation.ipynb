{
 "cells": [
  {
   "cell_type": "markdown",
   "metadata": {},
   "source": [
    "# Creating a dataset for stroke presence prediction\n",
    "\n",
    "Method: split whole brain into two hemispheres - one with stroke and one without\n",
    "Rationale: Create dataset for hemispheric stroke presence classification to determine which topological features are most useful for vascular imaging\n"
   ]
  },
  {
   "cell_type": "code",
   "execution_count": null,
   "metadata": {
    "pycharm": {
     "name": "#%%\n"
    }
   },
   "outputs": [],
   "source": [
    "import sys\n",
    "path_bnd = '../'\n",
    "sys.path.insert(1, path_bnd)\n",
    "import analysis_tools.data_loader as dl\n",
    "from gsprep.visual_tools.visual import display, idisplay\n",
    "import numpy as np"
   ]
  },
  {
   "cell_type": "markdown",
   "metadata": {},
   "source": [
    "## Import data"
   ]
  },
  {
   "cell_type": "code",
   "execution_count": null,
   "metadata": {
    "pycharm": {
     "name": "#%%\n"
    }
   },
   "outputs": [],
   "source": [
    "data_dir = '/Users/julian/stroke_research/brain_and_donuts/full_datasets'\n",
    "filename = 'withAngio_all_2016_2017.npz'\n",
    "clinical_inputs, ct_inputs, ct_lesion_GT, mri_inputs, mri_lesion_GT, brain_masks, ids, params = \\\n",
    "dl.load_structured_data(data_dir, filename=filename)\n",
    "\n",
    "# Reshape ct_inputs as it has 1 channel\n",
    "ct_inputs = ct_inputs.reshape((*ct_inputs.shape[:-1]))"
   ]
  },
  {
   "cell_type": "markdown",
   "metadata": {},
   "source": [
    "## Setting up data exploration set"
   ]
  },
  {
   "cell_type": "code",
   "execution_count": null,
   "metadata": {
    "pycharm": {
     "name": "#%%\n"
    }
   },
   "outputs": [],
   "source": [
    "# Data subset\n",
    "n_images = 5\n",
    "subsampling_rate = 2\n",
    "X = (ct_inputs[:n_images] * brain_masks[:n_images])[range(n_images), ::subsampling_rate, ::subsampling_rate, ::subsampling_rate]\n",
    "y = (ct_lesion_GT[:n_images] * brain_masks[:n_images])[range(n_images), ::subsampling_rate, ::subsampling_rate, ::subsampling_rate]\n",
    "\n",
    "print(X.shape)\n",
    "print(y.shape)"
   ]
  },
  {
   "cell_type": "code",
   "execution_count": null,
   "metadata": {
    "pycharm": {
     "name": "#%%\n"
    }
   },
   "outputs": [],
   "source": [
    "idisplay(X[0], mask=y[0])"
   ]
  },
  {
   "cell_type": "markdown",
   "metadata": {
    "pycharm": {
     "name": "#%% md\n"
    }
   },
   "source": [
    "Create a function to split the provided data into the two hemispheres."
   ]
  },
  {
   "cell_type": "code",
   "execution_count": null,
   "metadata": {
    "pycharm": {
     "name": "#%%\n"
    }
   },
   "outputs": [],
   "source": [
    "def brain_to_hemispheres(data, uniform_side=True):\n",
    "    x_center = data.shape[1] // 2\n",
    "\n",
    "    # split brain (here in image denomination, anatomical denomination would be the contrary)\n",
    "    right_side = data[:, x_center:]\n",
    "    left_side = data[:, :x_center]\n",
    "    if uniform_side:\n",
    "        transposed_right_side = np.flip(right_side, axis=1)\n",
    "        print(transposed_right_side.shape, left_side.shape)\n",
    "        hemispheres = np.concatenate((left_side, transposed_right_side), axis=0)\n",
    "        print(hemispheres.shape)\n",
    "        return hemispheres\n",
    "    else:\n",
    "        hemispheres = np.concatenate((left_side, right_side), axis=0)\n",
    "        return hemispheres\n"
   ]
  },
  {
   "cell_type": "code",
   "execution_count": null,
   "metadata": {
    "pycharm": {
     "name": "#%%\n"
    }
   },
   "outputs": [],
   "source": [
    "hemi_X, hemi_y = brain_to_hemispheres(X), brain_to_hemispheres(y)\n",
    "display(hemi_X[0])\n",
    "display(hemi_y[0])\n",
    "display(hemi_X[1])\n",
    "display(hemi_y[1])\n"
   ]
  },
  {
   "cell_type": "markdown",
   "metadata": {
    "pycharm": {
     "name": "#%% md\n"
    }
   },
   "source": [
    "## Transform whole dataset\n"
   ]
  },
  {
   "cell_type": "code",
   "execution_count": null,
   "metadata": {
    "pycharm": {
     "name": "#%%\n"
    }
   },
   "outputs": [],
   "source": [
    "outdir = data_dir\n",
    "out_file_name = 'withAngio_hemispheres_all_2016_2017.npz'\n",
    "dl.brain_volumes_dataset_to_hemispheric_dataset(data_dir, filename=filename, outdir=outdir, out_file_name = out_file_name)"
   ]
  },
  {
   "cell_type": "markdown",
   "metadata": {
    "pycharm": {
     "name": "#%% md\n"
    }
   },
   "source": [
    "Load newly created hemispheric dataset"
   ]
  },
  {
   "cell_type": "code",
   "execution_count": null,
   "metadata": {
    "pycharm": {
     "name": "#%%\n"
    }
   },
   "outputs": [],
   "source": [
    "clinical_inputs, ct_inputs, ct_lesion_GT, mri_inputs, mri_lesion_GT, brain_masks, ids, params = \\\n",
    "dl.load_structured_data(outdir, filename=out_file_name)\n",
    "ct_inputs.shape, ct_lesion_GT.shape, ids.shape"
   ]
  },
  {
   "cell_type": "code",
   "execution_count": null,
   "metadata": {
    "pycharm": {
     "name": "#%%\n"
    }
   },
   "outputs": [],
   "source": [
    "display(ct_inputs[0], mask=ct_lesion_GT[0])\n",
    "display(ct_inputs[1], mask=ct_lesion_GT[1])"
   ]
  },
  {
   "cell_type": "code",
   "execution_count": null,
   "metadata": {
    "pycharm": {
     "name": "#%%\n"
    }
   },
   "outputs": [],
   "source": [
    "stroke_presence_GT = np.any(ct_lesion_GT, axis=(1,2,3))\n",
    "print(f'Total number of hemispheres: {stroke_presence_GT.shape}, of which {np.sum(stroke_presence_GT)} contain a stroke lesion')\n"
   ]
  },
  {
   "cell_type": "code",
   "execution_count": null,
   "outputs": [],
   "source": [
    "\n"
   ],
   "metadata": {
    "collapsed": false,
    "pycharm": {
     "name": "#%%\n"
    }
   }
  }
 ],
 "metadata": {
  "kernelspec": {
   "display_name": "PyCharm (BnDs)",
   "language": "python",
   "name": "pycharm-f52dae77"
  },
  "language_info": {
   "codemirror_mode": {
    "name": "ipython",
    "version": 3
   },
   "file_extension": ".py",
   "mimetype": "text/x-python",
   "name": "python",
   "nbconvert_exporter": "python",
   "pygments_lexer": "ipython3",
   "version": "3.7.5"
  }
 },
 "nbformat": 4,
 "nbformat_minor": 1
}