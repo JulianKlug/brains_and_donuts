{
 "cells": [
  {
   "cell_type": "markdown",
   "metadata": {},
   "source": [
    "# Creating a dataset for patch-wise stroke presence prediction\n",
    "\n",
    "Method: split whole brain into many patches\n",
    "Rationale: Create dataset for patch wise stroke presence classification to determine which topological features are most useful for vascular imaging\n"
   ]
  },
  {
   "cell_type": "code",
   "execution_count": 25,
   "metadata": {
    "pycharm": {
     "name": "#%%\n"
    }
   },
   "outputs": [],
   "source": [
    "import sys\n",
    "path_bnd = '../'\n",
    "sys.path.insert(1, path_bnd)\n",
    "import analysis_tools.data_loader as dl\n",
    "from gsprep.visual_tools.visual import display, idisplay\n",
    "from sklearn.model_selection import train_test_split\n",
    "import matplotlib.pyplot as plt\n",
    "import numpy as np\n",
    "from tqdm import tqdm\n",
    "from imblearn.under_sampling import NearMiss\n",
    "from analysis_tools.utils.masked_rolling_subimage_transformer import MaskedRollingSubImageTransformer"
   ]
  },
  {
   "cell_type": "markdown",
   "metadata": {},
   "source": [
    "## Import data"
   ]
  },
  {
   "cell_type": "code",
   "execution_count": 3,
   "metadata": {
    "pycharm": {
     "name": "#%%\n"
    }
   },
   "outputs": [
    {
     "name": "stdout",
     "output_type": "stream",
     "text": [
      "Loading a total of 113 subjects.\n",
      "Sequences used: {'ct_sequences': ['wbetted_Angio'], 'ct_label_sequences': ['wcoreg_VOI'], 'mri_sequences': [], 'mri_label_sequences': []}\n",
      "0 subjects had been excluded.\n"
     ]
    }
   ],
   "source": [
    "data_dir = '/Users/julian/stroke_research/brain_and_donuts/full_datasets'\n",
    "filename = 'withAngio_all_2016_2017.npz'\n",
    "clinical_inputs, ct_inputs, ct_lesion_GT, mri_inputs, mri_lesion_GT, brain_masks, ids, params = \\\n",
    "dl.load_structured_data(data_dir, filename=filename)\n",
    "\n",
    "# Reshape ct_inputs as it has 1 channel\n",
    "ct_inputs = ct_inputs.reshape((*ct_inputs.shape[:-1]))"
   ]
  },
  {
   "cell_type": "markdown",
   "metadata": {},
   "source": [
    "## Setting up data exploration set"
   ]
  },
  {
   "cell_type": "code",
   "execution_count": 4,
   "metadata": {
    "pycharm": {
     "name": "#%%\n"
    }
   },
   "outputs": [
    {
     "name": "stdout",
     "output_type": "stream",
     "text": [
      "(5, 40, 48, 40)\n",
      "(5, 40, 48, 40)\n",
      "(5, 40, 48, 40)\n"
     ]
    }
   ],
   "source": [
    "# Data subset\n",
    "n_images = 5\n",
    "subsampling_rate = 2\n",
    "X = (ct_inputs[:n_images] * brain_masks[:n_images])[range(n_images), ::subsampling_rate, ::subsampling_rate, ::subsampling_rate]\n",
    "y = (ct_lesion_GT[:n_images] * brain_masks[:n_images])[range(n_images), ::subsampling_rate, ::subsampling_rate, ::subsampling_rate]\n",
    "masks = brain_masks[range(n_images), ::subsampling_rate, ::subsampling_rate, ::subsampling_rate]\n",
    "\n",
    "print(X.shape)\n",
    "print(y.shape)\n",
    "print(masks.shape)"
   ]
  },
  {
   "cell_type": "code",
   "execution_count": 34,
   "outputs": [],
   "source": [
    "# Normalise data\n",
    "# Capping (threshold to 0-500 as values outside this range seem non relevant to the vascular analysis)\n",
    "vmin = 0\n",
    "vmax = 500\n",
    "X[X < vmin] = vmin\n",
    "X[X > vmax] = vmax"
   ],
   "metadata": {
    "collapsed": false,
    "pycharm": {
     "name": "#%%\n"
    }
   }
  },
  {
   "cell_type": "code",
   "execution_count": 35,
   "metadata": {
    "pycharm": {
     "name": "#%%\n"
    }
   },
   "outputs": [
    {
     "data": {
      "text/plain": "HBox(children=(IntSlider(value=20, continuous_update=False, description='Sagittal', max=39), IntSlider(value=2…",
      "application/vnd.jupyter.widget-view+json": {
       "version_major": 2,
       "version_minor": 0,
       "model_id": "42b69e936bfa4aa698f9458603fa605b"
      }
     },
     "metadata": {},
     "output_type": "display_data"
    },
    {
     "data": {
      "text/plain": "Output()",
      "application/vnd.jupyter.widget-view+json": {
       "version_major": 2,
       "version_minor": 0,
       "model_id": "5dc2580a2dbc4492a55bced83a58bce3"
      }
     },
     "metadata": {},
     "output_type": "display_data"
    }
   ],
   "source": [
    "idisplay(X[0], mask=y[0])"
   ]
  },
  {
   "cell_type": "markdown",
   "metadata": {
    "pycharm": {
     "name": "#%% md\n"
    }
   },
   "source": [
    "Create a function to split the provided data into patches"
   ]
  },
  {
   "cell_type": "code",
   "execution_count": 36,
   "metadata": {
    "pycharm": {
     "name": "#%%\n"
    }
   },
   "outputs": [],
   "source": [
    "def brain_to_subimages(X, y, mask, width, batch_size = 10):\n",
    "    if isinstance(width, int):\n",
    "        width = [width, width, width]\n",
    "\n",
    "    masked_subimages_lesion_presence = []\n",
    "    masked_subimages = []\n",
    "    for batch_offset in tqdm(range(0, X.shape[0], batch_size)):\n",
    "        X_batch = X[batch_offset:batch_offset+batch_size]\n",
    "        y_batch = y[batch_offset:batch_offset+batch_size]\n",
    "        mask_batch = mask[batch_offset:batch_offset+batch_size]\n",
    "        masked_subimage_transformer = MaskedRollingSubImageTransformer(mask=mask_batch, width_list=[width], padding='valid', stride=width)\n",
    "        batch_masked_subimages = masked_subimage_transformer.fit_transform(X_batch)\n",
    "        batch_masked_subimages_lesion_segmentation = masked_subimage_transformer.fit_transform(y_batch)\n",
    "        width_idx = 0 # only one width is used for dataset creation (but transformer returns list of widths)\n",
    "        batch_masked_subimages_lesion_presence = [np.any(batch_masked_subimages_lesion_segmentation[subj_idx][width_idx], axis=(-3, -2, -1))\n",
    "                                                  for subj_idx in range(X_batch.shape[0])]\n",
    "        masked_subimages.append(batch_masked_subimages)\n",
    "        masked_subimages_lesion_presence.append(batch_masked_subimages_lesion_presence)\n",
    "\n",
    "    return np.squeeze(np.concatenate(masked_subimages)), np.concatenate(masked_subimages_lesion_presence)"
   ]
  },
  {
   "cell_type": "code",
   "execution_count": 37,
   "metadata": {
    "pycharm": {
     "name": "#%%\n"
    }
   },
   "outputs": [
    {
     "name": "stderr",
     "output_type": "stream",
     "text": [
      "  0%|          | 0/1 [00:00<?, ?it/s]/Users/julian/.conda/envs/BnDs/lib/python3.7/site-packages/pgtda/images/pipeline.py:495: FutureWarning:\n",
      "\n",
      "Using a non-tuple sequence for multidimensional indexing is deprecated; use `arr[tuple(seq)]` instead of `arr[seq]`. In the future this will be interpreted as an array index, `arr[np.array(seq)]`, which will result either in an error or a different result.\n",
      "\n",
      "/Users/julian/.conda/envs/BnDs/lib/python3.7/site-packages/pgtda/images/pipeline.py:495: FutureWarning:\n",
      "\n",
      "Using a non-tuple sequence for multidimensional indexing is deprecated; use `arr[tuple(seq)]` instead of `arr[seq]`. In the future this will be interpreted as an array index, `arr[np.array(seq)]`, which will result either in an error or a different result.\n",
      "\n",
      "/Users/julian/.conda/envs/BnDs/lib/python3.7/site-packages/pgtda/images/pipeline.py:495: FutureWarning:\n",
      "\n",
      "Using a non-tuple sequence for multidimensional indexing is deprecated; use `arr[tuple(seq)]` instead of `arr[seq]`. In the future this will be interpreted as an array index, `arr[np.array(seq)]`, which will result either in an error or a different result.\n",
      "\n",
      "/Users/julian/.conda/envs/BnDs/lib/python3.7/site-packages/pgtda/images/pipeline.py:495: FutureWarning:\n",
      "\n",
      "Using a non-tuple sequence for multidimensional indexing is deprecated; use `arr[tuple(seq)]` instead of `arr[seq]`. In the future this will be interpreted as an array index, `arr[np.array(seq)]`, which will result either in an error or a different result.\n",
      "\n",
      "/Users/julian/.conda/envs/BnDs/lib/python3.7/site-packages/pgtda/images/pipeline.py:495: FutureWarning:\n",
      "\n",
      "Using a non-tuple sequence for multidimensional indexing is deprecated; use `arr[tuple(seq)]` instead of `arr[seq]`. In the future this will be interpreted as an array index, `arr[np.array(seq)]`, which will result either in an error or a different result.\n",
      "\n",
      "/Users/julian/.conda/envs/BnDs/lib/python3.7/site-packages/pgtda/images/pipeline.py:495: FutureWarning:\n",
      "\n",
      "Using a non-tuple sequence for multidimensional indexing is deprecated; use `arr[tuple(seq)]` instead of `arr[seq]`. In the future this will be interpreted as an array index, `arr[np.array(seq)]`, which will result either in an error or a different result.\n",
      "\n",
      "/Users/julian/.conda/envs/BnDs/lib/python3.7/site-packages/pgtda/images/pipeline.py:495: FutureWarning:\n",
      "\n",
      "Using a non-tuple sequence for multidimensional indexing is deprecated; use `arr[tuple(seq)]` instead of `arr[seq]`. In the future this will be interpreted as an array index, `arr[np.array(seq)]`, which will result either in an error or a different result.\n",
      "\n",
      "/Users/julian/.conda/envs/BnDs/lib/python3.7/site-packages/pgtda/images/pipeline.py:495: FutureWarning:\n",
      "\n",
      "Using a non-tuple sequence for multidimensional indexing is deprecated; use `arr[tuple(seq)]` instead of `arr[seq]`. In the future this will be interpreted as an array index, `arr[np.array(seq)]`, which will result either in an error or a different result.\n",
      "\n",
      "/Users/julian/.conda/envs/BnDs/lib/python3.7/site-packages/pgtda/images/pipeline.py:495: FutureWarning:\n",
      "\n",
      "Using a non-tuple sequence for multidimensional indexing is deprecated; use `arr[tuple(seq)]` instead of `arr[seq]`. In the future this will be interpreted as an array index, `arr[np.array(seq)]`, which will result either in an error or a different result.\n",
      "\n",
      "/Users/julian/.conda/envs/BnDs/lib/python3.7/site-packages/pgtda/images/pipeline.py:495: FutureWarning:\n",
      "\n",
      "Using a non-tuple sequence for multidimensional indexing is deprecated; use `arr[tuple(seq)]` instead of `arr[seq]`. In the future this will be interpreted as an array index, `arr[np.array(seq)]`, which will result either in an error or a different result.\n",
      "\n",
      "/Users/julian/.conda/envs/BnDs/lib/python3.7/site-packages/pgtda/images/pipeline.py:495: FutureWarning:\n",
      "\n",
      "Using a non-tuple sequence for multidimensional indexing is deprecated; use `arr[tuple(seq)]` instead of `arr[seq]`. In the future this will be interpreted as an array index, `arr[np.array(seq)]`, which will result either in an error or a different result.\n",
      "\n",
      "/Users/julian/.conda/envs/BnDs/lib/python3.7/site-packages/pgtda/images/pipeline.py:495: FutureWarning:\n",
      "\n",
      "Using a non-tuple sequence for multidimensional indexing is deprecated; use `arr[tuple(seq)]` instead of `arr[seq]`. In the future this will be interpreted as an array index, `arr[np.array(seq)]`, which will result either in an error or a different result.\n",
      "\n",
      "/Users/julian/.conda/envs/BnDs/lib/python3.7/site-packages/pgtda/images/pipeline.py:495: FutureWarning:\n",
      "\n",
      "Using a non-tuple sequence for multidimensional indexing is deprecated; use `arr[tuple(seq)]` instead of `arr[seq]`. In the future this will be interpreted as an array index, `arr[np.array(seq)]`, which will result either in an error or a different result.\n",
      "\n",
      "/Users/julian/.conda/envs/BnDs/lib/python3.7/site-packages/pgtda/images/pipeline.py:495: FutureWarning:\n",
      "\n",
      "Using a non-tuple sequence for multidimensional indexing is deprecated; use `arr[tuple(seq)]` instead of `arr[seq]`. In the future this will be interpreted as an array index, `arr[np.array(seq)]`, which will result either in an error or a different result.\n",
      "\n",
      "/Users/julian/.conda/envs/BnDs/lib/python3.7/site-packages/pgtda/images/pipeline.py:495: FutureWarning:\n",
      "\n",
      "Using a non-tuple sequence for multidimensional indexing is deprecated; use `arr[tuple(seq)]` instead of `arr[seq]`. In the future this will be interpreted as an array index, `arr[np.array(seq)]`, which will result either in an error or a different result.\n",
      "\n",
      "/Users/julian/.conda/envs/BnDs/lib/python3.7/site-packages/pgtda/images/pipeline.py:495: FutureWarning:\n",
      "\n",
      "Using a non-tuple sequence for multidimensional indexing is deprecated; use `arr[tuple(seq)]` instead of `arr[seq]`. In the future this will be interpreted as an array index, `arr[np.array(seq)]`, which will result either in an error or a different result.\n",
      "\n",
      "/Users/julian/.conda/envs/BnDs/lib/python3.7/site-packages/pgtda/images/pipeline.py:495: FutureWarning:\n",
      "\n",
      "Using a non-tuple sequence for multidimensional indexing is deprecated; use `arr[tuple(seq)]` instead of `arr[seq]`. In the future this will be interpreted as an array index, `arr[np.array(seq)]`, which will result either in an error or a different result.\n",
      "\n",
      "/Users/julian/.conda/envs/BnDs/lib/python3.7/site-packages/pgtda/images/pipeline.py:495: FutureWarning:\n",
      "\n",
      "Using a non-tuple sequence for multidimensional indexing is deprecated; use `arr[tuple(seq)]` instead of `arr[seq]`. In the future this will be interpreted as an array index, `arr[np.array(seq)]`, which will result either in an error or a different result.\n",
      "\n",
      "/Users/julian/.conda/envs/BnDs/lib/python3.7/site-packages/pgtda/images/pipeline.py:495: FutureWarning:\n",
      "\n",
      "Using a non-tuple sequence for multidimensional indexing is deprecated; use `arr[tuple(seq)]` instead of `arr[seq]`. In the future this will be interpreted as an array index, `arr[np.array(seq)]`, which will result either in an error or a different result.\n",
      "\n",
      "/Users/julian/.conda/envs/BnDs/lib/python3.7/site-packages/pgtda/images/pipeline.py:495: FutureWarning:\n",
      "\n",
      "Using a non-tuple sequence for multidimensional indexing is deprecated; use `arr[tuple(seq)]` instead of `arr[seq]`. In the future this will be interpreted as an array index, `arr[np.array(seq)]`, which will result either in an error or a different result.\n",
      "\n",
      "100%|██████████| 1/1 [00:00<00:00, 14.79it/s]\n",
      "<string>:6: VisibleDeprecationWarning:\n",
      "\n",
      "Creating an ndarray from ragged nested sequences (which is a list-or-tuple of lists-or-tuples-or ndarrays with different lengths or shapes) is deprecated. If you meant to do this, you must specify 'dtype=object' when creating the ndarray\n",
      "\n"
     ]
    },
    {
     "name": "stdout",
     "output_type": "stream",
     "text": [
      "X dimensions: (5,) (74, 9, 9, 9)\n",
      "y dimensions: (5,) (74,)\n"
     ]
    }
   ],
   "source": [
    "patch_X, patch_y = brain_to_subimages(X, y, masks, width=9)\n",
    "print('X dimensions:', patch_X.shape, patch_X[0].shape)\n",
    "print('y dimensions:', patch_y.shape, patch_y[0].shape)"
   ]
  },
  {
   "cell_type": "code",
   "execution_count": 38,
   "outputs": [
    {
     "name": "stdout",
     "output_type": "stream",
     "text": [
      "(3,) (2,) (3,) (2,)\n"
     ]
    }
   ],
   "source": [
    "# split subject wise\n",
    "X_train, X_test, y_train, y_test = train_test_split(patch_X, patch_y, test_size=0.3, random_state=42)\n",
    "\n",
    "print(X_train.shape, X_test.shape, y_train.shape, y_test.shape)"
   ],
   "metadata": {
    "collapsed": false,
    "pycharm": {
     "name": "#%%\n"
    }
   }
  },
  {
   "cell_type": "code",
   "execution_count": 39,
   "outputs": [
    {
     "name": "stdout",
     "output_type": "stream",
     "text": [
      "(221, 729) (148, 729) (221,) (148,)\n"
     ]
    }
   ],
   "source": [
    "X_train, y_train = np.concatenate(X_train), np.concatenate(y_train)\n",
    "X_test, y_test = np.concatenate(X_test), np.concatenate(y_test)\n",
    "X_test, X_train = X_test.reshape(X_test.shape[0], -1), X_train.reshape(X_train.shape[0], -1)\n",
    "\n",
    "print(X_train.shape, X_test.shape, y_train.shape, y_test.shape)"
   ],
   "metadata": {
    "collapsed": false,
    "pycharm": {
     "name": "#%%\n"
    }
   }
  },
  {
   "cell_type": "code",
   "execution_count": 40,
   "outputs": [],
   "source": [
    "undersampler = NearMiss(version=3)\n",
    "undersampled_X_train, undersampled_y_train = undersampler.fit_resample(X_train, y_train)"
   ],
   "metadata": {
    "collapsed": false,
    "pycharm": {
     "name": "#%%\n"
    }
   }
  },
  {
   "cell_type": "code",
   "execution_count": 42,
   "outputs": [
    {
     "name": "stdout",
     "output_type": "stream",
     "text": [
      "34\n",
      "(68, 729) (68,)\n"
     ]
    },
    {
     "data": {
      "text/plain": "<Figure size 432x288 with 1 Axes>",
      "image/png": "[encoded data removed]"
     },
     "metadata": {
      "needs_background": "light"
     },
     "output_type": "display_data"
    },
    {
     "data": {
      "text/plain": "<Figure size 432x288 with 1 Axes>",
      "image/png": "[encoded data removed]"
     },
     "metadata": {
      "needs_background": "light"
     },
     "output_type": "display_data"
    },
    {
     "data": {
      "text/plain": "<Figure size 432x288 with 1 Axes>",
      "image/png": "[encoded data removed]"
     },
     "metadata": {
      "needs_background": "light"
     },
     "output_type": "display_data"
    },
    {
     "data": {
      "text/plain": "<Figure size 432x288 with 1 Axes>",
      "image/png": "[encoded data removed]"
     },
     "metadata": {
      "needs_background": "light"
     },
     "output_type": "display_data"
    }
   ],
   "source": [
    "print(np.sum(y_train))\n",
    "print(undersampled_X_train.shape, undersampled_y_train.shape)\n",
    "\n",
    "plt.hist(np.mean(X_train, axis=-1), bins=50)\n",
    "plt.show()\n",
    "plt.scatter(np.mean(X_train, axis=-1), y_train)\n",
    "plt.show()\n",
    "\n",
    "plt.hist(np.mean(undersampled_X_train, axis=-1), bins=50)\n",
    "plt.show()\n",
    "plt.scatter(np.mean(undersampled_X_train, axis=-1), undersampled_y_train)\n",
    "plt.show()\n"
   ],
   "metadata": {
    "collapsed": false,
    "pycharm": {
     "name": "#%%\n"
    }
   }
  }
 ],
 "metadata": {
  "kernelspec": {
   "display_name": "PyCharm (BnDs)",
   "language": "python",
   "name": "pycharm-f52dae77"
  },
  "language_info": {
   "codemirror_mode": {
    "name": "ipython",
    "version": 3
   },
   "file_extension": ".py",
   "mimetype": "text/x-python",
   "name": "python",
   "nbconvert_exporter": "python",
   "pygments_lexer": "ipython3",
   "version": "3.7.5"
  }
 },
 "nbformat": 4,
 "nbformat_minor": 1
}